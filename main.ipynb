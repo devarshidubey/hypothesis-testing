{
 "cells": [
  {
   "cell_type": "code",
   "execution_count": 62,
   "metadata": {},
   "outputs": [
    {
     "data": {
      "text/plain": [
       "<module 'hypothesis_tests' from 'c:\\\\Users\\\\digitshikeb\\\\Desktop\\\\stat\\\\hypothesis_tests.py'>"
      ]
     },
     "execution_count": 62,
     "metadata": {},
     "output_type": "execute_result"
    }
   ],
   "source": [
    "import matplotlib.pyplot as plt\n",
    "from collections import Counter\n",
    "from termcolor import colored\n",
    "\n",
    "import sampling as sm\n",
    "import hypothesis_tests as test\n",
    "import movie_sample as movies\n",
    "from importlib import reload\n",
    "reload(test)"
   ]
  },
  {
   "cell_type": "code",
   "execution_count": 2,
   "metadata": {},
   "outputs": [],
   "source": [
    "filename = 'combined_data_1.csv'\n",
    "df = sm.create_dataframe(filename)\n"
   ]
  },
  {
   "cell_type": "code",
   "execution_count": 22,
   "metadata": {},
   "outputs": [
    {
     "name": "stdout",
     "output_type": "stream",
     "text": [
      "3.213520571281122\n",
      "3.1511318117836082\n",
      "1.3829797507011263\n",
      "1.5250405800660427\n"
     ]
    }
   ],
   "source": [
    "pop_mean1 = sm.population_mean1() #pop1 = movies before 2000\n",
    "pop_mean2 = sm.population_mean2() #pop2 = movies after 2000\n",
    "\n",
    "print(pop_mean1)\n",
    "print(pop_mean2)\n",
    "pop_variance1 = sm.population_variance1(pop_mean1)\n",
    "pop_variance2 = sm.population_variance2(pop_mean2)\n",
    "print(pop_variance1)\n",
    "print(pop_variance2)"
   ]
  },
  {
   "cell_type": "code",
   "execution_count": 23,
   "metadata": {},
   "outputs": [],
   "source": [
    "movies1 = movies.select_random_movies1('movie_titles.csv', 10) #array of movie ids before 2000s\n",
    "movies2 = movies.select_random_movies2('movie_titles.csv', 10) #array of movie ids after 2000s\n",
    "random_movies1 = list(map(str, movies1))\n",
    "random_movies2 = list(map(str, movies2))"
   ]
  },
  {
   "cell_type": "markdown",
   "metadata": {},
   "source": [
    "# UNIT 2"
   ]
  },
  {
   "cell_type": "code",
   "execution_count": 27,
   "metadata": {},
   "outputs": [
    {
     "name": "stdout",
     "output_type": "stream",
     "text": [
      "        movieid   userid  rating        date\n",
      "2322332     789  1734805       4  2000-09-09\n",
      "2322333     789   716091       4  2000-01-06\n",
      "2322334     789   712664       4  2004-08-24\n",
      "2322335     789  1990901       4  2002-03-08\n",
      "2322336     789   306466       4  2002-04-09\n",
      "...         ...      ...     ...         ...\n",
      "8975710    3785   579109       2  2005-01-04\n",
      "8975711    3785   515436       1  2005-07-13\n",
      "8975712    3785   707528       1  2004-09-13\n",
      "8975713    3785   874870       4  2005-03-03\n",
      "8975714    3785  2634967       1  2004-07-17\n",
      "\n",
      "[115835 rows x 4 columns]\n"
     ]
    }
   ],
   "source": [
    "# sample_dataset1 = sm.get_sample(filename, random_movies1, 800)\n",
    "# sample_dataset2 = sm.get_sample(filename, random_movies2, 800)\n",
    "filtered_df1 = df[df['movieid'].isin(random_movies1)] #dataframe containing movies given in the random movies array\n",
    "filtered_df2 = df[df['movieid'].isin(random_movies2)]\n",
    "print(filtered_df1)\n",
    "dataset1 = filtered_df1.sample(n=100, random_state=42)['rating'].tolist()\n",
    "dataset2 = filtered_df2.sample(n=100, random_state=42)['rating'].tolist()\n",
    "sample_dataset1 = list(map(int, dataset1))\n",
    "sample_dataset2 = list(map(int, dataset2))\n",
    "\n",
    "# sample_dataset1_small = sm.get_sample(filename, random_movies1, 26)\n",
    "# sample_dataset2_small = sm.get_sample(filename, random_movies2, 23)\n",
    "null_hypothesis_mean = 3"
   ]
  },
  {
   "cell_type": "code",
   "execution_count": 65,
   "metadata": {},
   "outputs": [
    {
     "name": "stdout",
     "output_type": "stream",
     "text": [
      "\u001b[31m-----------------------Z-TEST 1 SAMPLE----------------------\u001b[0m\n",
      "Movies before 2000 had an average rating at least 3\n",
      "\u001b[32mleft tailed test at alpha 0.05: Hypothesis accepted | H0: mean >= 3\u001b[0m\n",
      "---------------------------------------------\n",
      "Movies before 2000 had an average rating at most 3\n",
      "\u001b[32mright tailed test at alpha 0.05: Hypothesis rejected | H0: mean <= 3\u001b[0m\n",
      "---------------------------------------------\n",
      "Movies before 2000 had an average rating equal to 3\n",
      "two tailed test at alpha 0.05: Hypothesis rejected | H0: mean = 3\u001b[0m\n",
      "---------------------------------------------\n",
      "\u001b[31m\n",
      "-----------------------Z-TEST 2 SAMPLE----------------------\u001b[0m\n",
      "Movies were equally rated before and after year 2000\n",
      "\u001b[32mtwo sample z test at alpha 0.05: Hypothesis rejected | H0: mean1 = mean2\u001b[0m\n",
      "\n",
      "-----------------------T-TEST----------------------\n",
      "\u001b[32mtwo sample t test at alpha 0.01: Hypothesis rejected | H0: mean1 = mean2\u001b[0m\n"
     ]
    }
   ],
   "source": [
    "print(colored(\"-----------------------Z-TEST 1 SAMPLE----------------------\", 'red'))\n",
    "print(\"Movies before 2000 had an average rating at least %d\"%null_hypothesis_mean)\n",
    "# #TEST 1 Single Sample left-tailed ztest\n",
    "test.left_tailed_z_test(sample_dataset1, null_hypothesis_mean, pop_variance1, 0.05)\n",
    "print(\"---------------------------------------------\")\n",
    "# #TEST 2 Single Sample right-tailed ztest\n",
    "print(\"Movies before 2000 had an average rating at most %d\"%null_hypothesis_mean)\n",
    "test.right_tailed_z_test(sample_dataset1, null_hypothesis_mean, pop_variance1, 0.05)\n",
    "print(\"---------------------------------------------\")\n",
    "# #TEST 3 Single Sample two-tailed ztest\n",
    "print(\"Movies before 2000 had an average rating equal to %d\"%null_hypothesis_mean)\n",
    "test.two_tailed_z_test(sample_dataset1, null_hypothesis_mean, pop_variance1, 0.05)\n",
    "print(\"---------------------------------------------\")\n",
    "#TEST 5 Two Sample ztest\n",
    "print(colored(\"\\n-----------------------Z-TEST 2 SAMPLE----------------------\",'red'))\n",
    "print(\"Movies were equally rated before and after year 2000\")\n",
    "test.two_sample_test(sample_dataset1, sample_dataset2, 0.05)\n",
    "print(colored(\"\\n-----------------------T-TEST----------------------\",'red'))\n",
    "# #TEST 5 Two Sample ztest\n",
    "test.two_sample_t_value_test(sample_dataset1, sample_dataset2, alpha=0.01)"
   ]
  },
  {
   "cell_type": "markdown",
   "metadata": {},
   "source": [
    "# UNIT 3"
   ]
  },
  {
   "cell_type": "code",
   "execution_count": 58,
   "metadata": {},
   "outputs": [
    {
     "name": "stdout",
     "output_type": "stream",
     "text": [
      "\t\tRUNS TEST FOR RANDOMNESS OF THE SAMPLE\n",
      "Number of runs:  48\n",
      "Result at alpha = 0.05: The sample is random\n",
      "----------------------------------------\n",
      "\t\tSIGN TEST FOR THE HYPOTHESIS:\n",
      "H0: Median = 4\n",
      "Ha: Median < 4\n",
      "one sample sign test at alpha 0.01: Hypothesis accepted | H0: median=4.0\n",
      "----------------------------------------\n"
     ]
    }
   ],
   "source": [
    "null_hypothesis_median = 4\n",
    "print(\"\\t\\tRUNS TEST FOR RANDOMNESS OF THE SAMPLE\")\n",
    "test.runs_test(sample_dataset2)\n",
    "print(\"----------------------------------------\")\n",
    "print(\"\\t\\tSIGN TEST FOR THE HYPOTHESIS:\")\n",
    "print(\"H0: Median = 4\")\n",
    "print(\"Ha: Median < 4\")\n",
    "\n",
    "test.sign_test_one_sample(sample_dataset1, null_hypothesis_median, 0.01)\n",
    "print(\"----------------------------------------\")\n"
   ]
  },
  {
   "cell_type": "code",
   "execution_count": null,
   "metadata": {},
   "outputs": [],
   "source": []
  }
 ],
 "metadata": {
  "kernelspec": {
   "display_name": "Python 3",
   "language": "python",
   "name": "python3"
  },
  "language_info": {
   "codemirror_mode": {
    "name": "ipython",
    "version": 3
   },
   "file_extension": ".py",
   "mimetype": "text/x-python",
   "name": "python",
   "nbconvert_exporter": "python",
   "pygments_lexer": "ipython3",
   "version": "3.11.3"
  }
 },
 "nbformat": 4,
 "nbformat_minor": 2
}
