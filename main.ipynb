{
 "cells": [
  {
   "cell_type": "code",
   "execution_count": 19,
   "metadata": {},
   "outputs": [
    {
     "data": {
      "text/plain": [
       "<module 'sampling' from 'c:\\\\Users\\\\digitshikeb\\\\Desktop\\\\stat\\\\sampling.py'>"
      ]
     },
     "execution_count": 19,
     "metadata": {},
     "output_type": "execute_result"
    }
   ],
   "source": [
    "import matplotlib.pyplot as plt\n",
    "from collections import Counter\n",
    "\n",
    "import sampling as sm\n",
    "import hypothesis_tests as test\n",
    "import movie_sample as movies\n",
    "from importlib import reload\n",
    "# reload(sm)"
   ]
  },
  {
   "cell_type": "code",
   "execution_count": 2,
   "metadata": {},
   "outputs": [],
   "source": [
    "filename = 'combined_data_1.csv'\n",
    "df = sm.create_dataframe(filename)\n"
   ]
  },
  {
   "cell_type": "code",
   "execution_count": 22,
   "metadata": {},
   "outputs": [
    {
     "name": "stdout",
     "output_type": "stream",
     "text": [
      "3.213520571281122\n",
      "3.1511318117836082\n",
      "1.3829797507011263\n",
      "1.5250405800660427\n"
     ]
    }
   ],
   "source": [
    "pop_mean1 = sm.population_mean1() #pop1 = movies before 2000\n",
    "pop_mean2 = sm.population_mean2() #pop2 = movies after 2000\n",
    "\n",
    "print(pop_mean1)\n",
    "print(pop_mean2)\n",
    "pop_variance1 = sm.population_variance1(pop_mean1)\n",
    "pop_variance2 = sm.population_variance2(pop_mean2)\n",
    "print(pop_variance1)\n",
    "print(pop_variance2)"
   ]
  },
  {
   "cell_type": "code",
   "execution_count": 23,
   "metadata": {},
   "outputs": [],
   "source": [
    "movies1 = movies.select_random_movies1('movie_titles.csv', 10) #array of movie ids before 2000s\n",
    "movies2 = movies.select_random_movies2('movie_titles.csv', 10) #array of movie ids after 2000s\n",
    "random_movies1 = list(map(str, movies1))\n",
    "random_movies2 = list(map(str, movies2))"
   ]
  },
  {
   "cell_type": "markdown",
   "metadata": {},
   "source": [
    "# UNIT 2"
   ]
  },
  {
   "cell_type": "code",
   "execution_count": 24,
   "metadata": {},
   "outputs": [],
   "source": [
    "# sample_dataset1 = sm.get_sample(filename, random_movies1, 800)\n",
    "# sample_dataset2 = sm.get_sample(filename, random_movies2, 800)\n",
    "filtered_df1 = df[df['movieid'].isin(random_movies1)] #dataframe containing movies given in the random movies array\n",
    "filtered_df2 = df[df['movieid'].isin(random_movies2)]\n",
    "\n",
    "dataset1 = filtered_df1.sample(n=100, random_state=42)['rating'].tolist()\n",
    "dataset2 = filtered_df2.sample(n=100, random_state=42)['rating'].tolist()\n",
    "sample_dataset1 = list(map(int, dataset1))\n",
    "sample_dataset2 = list(map(int, dataset2))\n",
    "\n",
    "# sample_dataset1_small = sm.get_sample(filename, random_movies1, 26)\n",
    "# sample_dataset2_small = sm.get_sample(filename, random_movies2, 23)\n",
    "null_hypothesis_mean = 3"
   ]
  },
  {
   "cell_type": "code",
   "execution_count": 25,
   "metadata": {},
   "outputs": [
    {
     "name": "stdout",
     "output_type": "stream",
     "text": [
      "-----------------------Z-TEST 1 SAMPLE----------------------\n",
      "Movies before 2000 had an average rating at least 3\n",
      "left tailed test at alpha 0.05: Hypothesis accepted | H0: mean >= 3\n",
      "---------------------------------------------\n",
      "Movies before 2000 had an average rating at most 3\n",
      "right tailed test at alpha 0.05: Hypothesis rejected | H0: mean <= 3\n",
      "---------------------------------------------\n",
      "Movies before 2000 had an average rating equal to 3\n",
      "two tailed test at alpha 0.05: Hypothesis rejected | H0: mean = 3\n",
      "---------------------------------------------\n",
      "\n",
      "-----------------------Z-TEST 2 SAMPLE----------------------\n",
      "Movies were equally rated before and after year 2000\n",
      "two sample z test at alpha 0.05: Hypothesis rejected | H0: mean1 = mean2\n",
      "\n",
      "-----------------------T-TEST----------------------\n",
      "two sample t test at alpha 0.01: Hypothesis rejected | H0: mean1 = mean2\n"
     ]
    }
   ],
   "source": [
    "print(\"-----------------------Z-TEST 1 SAMPLE----------------------\")\n",
    "print(\"Movies before 2000 had an average rating at least %d\"%null_hypothesis_mean)\n",
    "# #TEST 1 Single Sample left-tailed ztest\n",
    "test.left_tailed_z_test(sample_dataset1, null_hypothesis_mean, pop_variance1, 0.05)\n",
    "print(\"---------------------------------------------\")\n",
    "# #TEST 2 Single Sample right-tailed ztest\n",
    "print(\"Movies before 2000 had an average rating at most %d\"%null_hypothesis_mean)\n",
    "test.right_tailed_z_test(sample_dataset1, null_hypothesis_mean, pop_variance1, 0.05)\n",
    "print(\"---------------------------------------------\")\n",
    "# #TEST 3 Single Sample two-tailed ztest\n",
    "print(\"Movies before 2000 had an average rating equal to %d\"%null_hypothesis_mean)\n",
    "test.two_tailed_z_test(sample_dataset1, null_hypothesis_mean, pop_variance1, 0.05)\n",
    "print(\"---------------------------------------------\")\n",
    "#TEST 5 Two Sample ztest\n",
    "print(\"\\n-----------------------Z-TEST 2 SAMPLE----------------------\")\n",
    "print(\"Movies were equally rated before and after year 2000\")\n",
    "test.two_sample_test(sample_dataset1, sample_dataset2, 0.05)\n",
    "print(\"\\n-----------------------T-TEST----------------------\")\n",
    "# #TEST 5 Two Sample ztest\n",
    "test.two_sample_t_value_test(sample_dataset1, sample_dataset2, alpha=0.01)"
   ]
  },
  {
   "cell_type": "markdown",
   "metadata": {},
   "source": [
    "# UNIT 3"
   ]
  },
  {
   "cell_type": "code",
   "execution_count": 26,
   "metadata": {},
   "outputs": [
    {
     "name": "stdout",
     "output_type": "stream",
     "text": [
      "Result: The sample is random\n"
     ]
    }
   ],
   "source": [
    "test.runs_test(sample_dataset2)"
   ]
  },
  {
   "cell_type": "code",
   "execution_count": null,
   "metadata": {},
   "outputs": [],
   "source": []
  }
 ],
 "metadata": {
  "kernelspec": {
   "display_name": "Python 3",
   "language": "python",
   "name": "python3"
  },
  "language_info": {
   "codemirror_mode": {
    "name": "ipython",
    "version": 3
   },
   "file_extension": ".py",
   "mimetype": "text/x-python",
   "name": "python",
   "nbconvert_exporter": "python",
   "pygments_lexer": "ipython3",
   "version": "3.11.3"
  }
 },
 "nbformat": 4,
 "nbformat_minor": 2
}
